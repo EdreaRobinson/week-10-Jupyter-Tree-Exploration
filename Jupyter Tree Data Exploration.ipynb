{
 "cells": [
  {
   "cell_type": "code",
   "execution_count": 40,
   "id": "4812d564",
   "metadata": {},
   "outputs": [],
   "source": [
    "import numpy as np\n",
    "import pandas as pd\n",
    "import matplotlib.pyplot as plt"
   ]
  },
  {
   "cell_type": "code",
   "execution_count": 8,
   "id": "6a709fc7",
   "metadata": {},
   "outputs": [],
   "source": [
    "treeList = pd.read_csv(\"Street_Tree_List.csv\")"
   ]
  },
  {
   "cell_type": "code",
   "execution_count": 9,
   "id": "12e48daf",
   "metadata": {},
   "outputs": [
    {
     "data": {
      "text/html": [
       "<div>\n",
       "<style scoped>\n",
       "    .dataframe tbody tr th:only-of-type {\n",
       "        vertical-align: middle;\n",
       "    }\n",
       "\n",
       "    .dataframe tbody tr th {\n",
       "        vertical-align: top;\n",
       "    }\n",
       "\n",
       "    .dataframe thead th {\n",
       "        text-align: right;\n",
       "    }\n",
       "</style>\n",
       "<table border=\"1\" class=\"dataframe\">\n",
       "  <thead>\n",
       "    <tr style=\"text-align: right;\">\n",
       "      <th></th>\n",
       "      <th>TreeID</th>\n",
       "      <th>qLegalStatus</th>\n",
       "      <th>qSpecies</th>\n",
       "      <th>qAddress</th>\n",
       "      <th>SiteOrder</th>\n",
       "      <th>qSiteInfo</th>\n",
       "      <th>PlantType</th>\n",
       "      <th>qCaretaker</th>\n",
       "      <th>qCareAssistant</th>\n",
       "      <th>PlantDate</th>\n",
       "      <th>...</th>\n",
       "      <th>XCoord</th>\n",
       "      <th>YCoord</th>\n",
       "      <th>Latitude</th>\n",
       "      <th>Longitude</th>\n",
       "      <th>Location</th>\n",
       "      <th>Fire Prevention Districts</th>\n",
       "      <th>Police Districts</th>\n",
       "      <th>Supervisor Districts</th>\n",
       "      <th>Zip Codes</th>\n",
       "      <th>Neighborhoods (old)</th>\n",
       "    </tr>\n",
       "  </thead>\n",
       "  <tbody>\n",
       "    <tr>\n",
       "      <th>0</th>\n",
       "      <td>48142</td>\n",
       "      <td>Permitted Site</td>\n",
       "      <td>Tree(s) ::</td>\n",
       "      <td>NaN</td>\n",
       "      <td>252.0</td>\n",
       "      <td>Sidewalk: Curb side : Cutout</td>\n",
       "      <td>Tree</td>\n",
       "      <td>Private</td>\n",
       "      <td>NaN</td>\n",
       "      <td>07/17/2002 12:00:00 AM</td>\n",
       "      <td>...</td>\n",
       "      <td>NaN</td>\n",
       "      <td>NaN</td>\n",
       "      <td>NaN</td>\n",
       "      <td>NaN</td>\n",
       "      <td>NaN</td>\n",
       "      <td>NaN</td>\n",
       "      <td>NaN</td>\n",
       "      <td>NaN</td>\n",
       "      <td>NaN</td>\n",
       "      <td>NaN</td>\n",
       "    </tr>\n",
       "    <tr>\n",
       "      <th>1</th>\n",
       "      <td>19725</td>\n",
       "      <td>DPW Maintained</td>\n",
       "      <td>Pinus Spp :: Pine Spp</td>\n",
       "      <td>100 STAIRWAY14</td>\n",
       "      <td>3.0</td>\n",
       "      <td>Sidewalk: Curb side : Cutout</td>\n",
       "      <td>Tree</td>\n",
       "      <td>DPW</td>\n",
       "      <td>NaN</td>\n",
       "      <td>NaN</td>\n",
       "      <td>...</td>\n",
       "      <td>NaN</td>\n",
       "      <td>NaN</td>\n",
       "      <td>NaN</td>\n",
       "      <td>NaN</td>\n",
       "      <td>NaN</td>\n",
       "      <td>NaN</td>\n",
       "      <td>NaN</td>\n",
       "      <td>NaN</td>\n",
       "      <td>NaN</td>\n",
       "      <td>NaN</td>\n",
       "    </tr>\n",
       "    <tr>\n",
       "      <th>2</th>\n",
       "      <td>121399</td>\n",
       "      <td>DPW Maintained</td>\n",
       "      <td>Corymbia ficifolia :: Red Flowering Gum</td>\n",
       "      <td>349X Cargo Way</td>\n",
       "      <td>1.0</td>\n",
       "      <td>Sidewalk: Curb side : Cutout</td>\n",
       "      <td>Tree</td>\n",
       "      <td>DPW</td>\n",
       "      <td>NaN</td>\n",
       "      <td>NaN</td>\n",
       "      <td>...</td>\n",
       "      <td>NaN</td>\n",
       "      <td>NaN</td>\n",
       "      <td>NaN</td>\n",
       "      <td>NaN</td>\n",
       "      <td>NaN</td>\n",
       "      <td>NaN</td>\n",
       "      <td>NaN</td>\n",
       "      <td>NaN</td>\n",
       "      <td>NaN</td>\n",
       "      <td>NaN</td>\n",
       "    </tr>\n",
       "    <tr>\n",
       "      <th>3</th>\n",
       "      <td>46536</td>\n",
       "      <td>Permitted Site</td>\n",
       "      <td>Tree(s) ::</td>\n",
       "      <td>73 Summer St</td>\n",
       "      <td>2.0</td>\n",
       "      <td>Sidewalk: Curb side : Cutout</td>\n",
       "      <td>Tree</td>\n",
       "      <td>Private</td>\n",
       "      <td>NaN</td>\n",
       "      <td>04/01/2002 12:00:00 AM</td>\n",
       "      <td>...</td>\n",
       "      <td>NaN</td>\n",
       "      <td>NaN</td>\n",
       "      <td>NaN</td>\n",
       "      <td>NaN</td>\n",
       "      <td>NaN</td>\n",
       "      <td>NaN</td>\n",
       "      <td>NaN</td>\n",
       "      <td>NaN</td>\n",
       "      <td>NaN</td>\n",
       "      <td>NaN</td>\n",
       "    </tr>\n",
       "    <tr>\n",
       "      <th>4</th>\n",
       "      <td>251210</td>\n",
       "      <td>DPW Maintained</td>\n",
       "      <td>Eucalyptus polyanthemos :: Silver Dollar Eucal...</td>\n",
       "      <td>1170 Ingalls St</td>\n",
       "      <td>2.0</td>\n",
       "      <td>Sidewalk: Curb side : Cutout</td>\n",
       "      <td>Tree</td>\n",
       "      <td>DPW</td>\n",
       "      <td>NaN</td>\n",
       "      <td>11/02/1992 12:00:00 AM</td>\n",
       "      <td>...</td>\n",
       "      <td>NaN</td>\n",
       "      <td>NaN</td>\n",
       "      <td>NaN</td>\n",
       "      <td>NaN</td>\n",
       "      <td>NaN</td>\n",
       "      <td>NaN</td>\n",
       "      <td>NaN</td>\n",
       "      <td>NaN</td>\n",
       "      <td>NaN</td>\n",
       "      <td>NaN</td>\n",
       "    </tr>\n",
       "  </tbody>\n",
       "</table>\n",
       "<p>5 rows × 23 columns</p>\n",
       "</div>"
      ],
      "text/plain": [
       "   TreeID    qLegalStatus                                           qSpecies  \\\n",
       "0   48142  Permitted Site                                         Tree(s) ::   \n",
       "1   19725  DPW Maintained                              Pinus Spp :: Pine Spp   \n",
       "2  121399  DPW Maintained            Corymbia ficifolia :: Red Flowering Gum   \n",
       "3   46536  Permitted Site                                         Tree(s) ::   \n",
       "4  251210  DPW Maintained  Eucalyptus polyanthemos :: Silver Dollar Eucal...   \n",
       "\n",
       "          qAddress  SiteOrder                     qSiteInfo PlantType  \\\n",
       "0              NaN      252.0  Sidewalk: Curb side : Cutout      Tree   \n",
       "1   100 STAIRWAY14        3.0  Sidewalk: Curb side : Cutout      Tree   \n",
       "2   349X Cargo Way        1.0  Sidewalk: Curb side : Cutout      Tree   \n",
       "3     73 Summer St        2.0  Sidewalk: Curb side : Cutout      Tree   \n",
       "4  1170 Ingalls St        2.0  Sidewalk: Curb side : Cutout      Tree   \n",
       "\n",
       "  qCaretaker qCareAssistant               PlantDate  ...  XCoord YCoord  \\\n",
       "0    Private            NaN  07/17/2002 12:00:00 AM  ...     NaN    NaN   \n",
       "1        DPW            NaN                     NaN  ...     NaN    NaN   \n",
       "2        DPW            NaN                     NaN  ...     NaN    NaN   \n",
       "3    Private            NaN  04/01/2002 12:00:00 AM  ...     NaN    NaN   \n",
       "4        DPW            NaN  11/02/1992 12:00:00 AM  ...     NaN    NaN   \n",
       "\n",
       "  Latitude  Longitude  Location  Fire Prevention Districts  Police Districts  \\\n",
       "0      NaN        NaN       NaN                        NaN               NaN   \n",
       "1      NaN        NaN       NaN                        NaN               NaN   \n",
       "2      NaN        NaN       NaN                        NaN               NaN   \n",
       "3      NaN        NaN       NaN                        NaN               NaN   \n",
       "4      NaN        NaN       NaN                        NaN               NaN   \n",
       "\n",
       "  Supervisor Districts  Zip Codes  Neighborhoods (old)  \n",
       "0                  NaN        NaN                  NaN  \n",
       "1                  NaN        NaN                  NaN  \n",
       "2                  NaN        NaN                  NaN  \n",
       "3                  NaN        NaN                  NaN  \n",
       "4                  NaN        NaN                  NaN  \n",
       "\n",
       "[5 rows x 23 columns]"
      ]
     },
     "execution_count": 9,
     "metadata": {},
     "output_type": "execute_result"
    }
   ],
   "source": [
    "treeList.head()"
   ]
  },
  {
   "cell_type": "code",
   "execution_count": 10,
   "id": "632e0263",
   "metadata": {},
   "outputs": [
    {
     "name": "stdout",
     "output_type": "stream",
     "text": [
      "<class 'pandas.core.frame.DataFrame'>\n",
      "RangeIndex: 195765 entries, 0 to 195764\n",
      "Data columns (total 23 columns):\n",
      " #   Column                     Non-Null Count   Dtype  \n",
      "---  ------                     --------------   -----  \n",
      " 0   TreeID                     195765 non-null  int64  \n",
      " 1   qLegalStatus               195708 non-null  object \n",
      " 2   qSpecies                   195765 non-null  object \n",
      " 3   qAddress                   194275 non-null  object \n",
      " 4   SiteOrder                  194013 non-null  float64\n",
      " 5   qSiteInfo                  195765 non-null  object \n",
      " 6   PlantType                  195765 non-null  object \n",
      " 7   qCaretaker                 195765 non-null  object \n",
      " 8   qCareAssistant             24653 non-null   object \n",
      " 9   PlantDate                  68358 non-null   object \n",
      " 10  DBH                        152708 non-null  float64\n",
      " 11  PlotSize                   145436 non-null  object \n",
      " 12  PermitNotes                53107 non-null   object \n",
      " 13  XCoord                     192825 non-null  float64\n",
      " 14  YCoord                     192825 non-null  float64\n",
      " 15  Latitude                   192825 non-null  float64\n",
      " 16  Longitude                  192825 non-null  float64\n",
      " 17  Location                   192825 non-null  object \n",
      " 18  Fire Prevention Districts  192574 non-null  float64\n",
      " 19  Police Districts           192627 non-null  float64\n",
      " 20  Supervisor Districts       192688 non-null  float64\n",
      " 21  Zip Codes                  192682 non-null  float64\n",
      " 22  Neighborhoods (old)        192684 non-null  float64\n",
      "dtypes: float64(11), int64(1), object(11)\n",
      "memory usage: 34.4+ MB\n"
     ]
    }
   ],
   "source": [
    "treeList.info()"
   ]
  },
  {
   "cell_type": "code",
   "execution_count": 11,
   "id": "990d22a7",
   "metadata": {},
   "outputs": [
    {
     "data": {
      "text/plain": [
       "(195765, 23)"
      ]
     },
     "execution_count": 11,
     "metadata": {},
     "output_type": "execute_result"
    }
   ],
   "source": [
    "treeList.shape"
   ]
  },
  {
   "cell_type": "code",
   "execution_count": 15,
   "id": "a0eff6d8",
   "metadata": {},
   "outputs": [
    {
     "data": {
      "text/html": [
       "<div>\n",
       "<style scoped>\n",
       "    .dataframe tbody tr th:only-of-type {\n",
       "        vertical-align: middle;\n",
       "    }\n",
       "\n",
       "    .dataframe tbody tr th {\n",
       "        vertical-align: top;\n",
       "    }\n",
       "\n",
       "    .dataframe thead th {\n",
       "        text-align: right;\n",
       "    }\n",
       "</style>\n",
       "<table border=\"1\" class=\"dataframe\">\n",
       "  <thead>\n",
       "    <tr style=\"text-align: right;\">\n",
       "      <th></th>\n",
       "      <th>TreeID</th>\n",
       "      <th>SiteOrder</th>\n",
       "      <th>DBH</th>\n",
       "      <th>XCoord</th>\n",
       "      <th>YCoord</th>\n",
       "      <th>Latitude</th>\n",
       "      <th>Longitude</th>\n",
       "      <th>Fire Prevention Districts</th>\n",
       "      <th>Police Districts</th>\n",
       "      <th>Supervisor Districts</th>\n",
       "      <th>Zip Codes</th>\n",
       "      <th>Neighborhoods (old)</th>\n",
       "    </tr>\n",
       "  </thead>\n",
       "  <tbody>\n",
       "    <tr>\n",
       "      <th>count</th>\n",
       "      <td>195765.000000</td>\n",
       "      <td>194013.000000</td>\n",
       "      <td>152708.000000</td>\n",
       "      <td>1.928250e+05</td>\n",
       "      <td>1.928250e+05</td>\n",
       "      <td>192825.000000</td>\n",
       "      <td>192825.000000</td>\n",
       "      <td>192574.000000</td>\n",
       "      <td>192627.000000</td>\n",
       "      <td>192688.000000</td>\n",
       "      <td>192682.000000</td>\n",
       "      <td>192684.000000</td>\n",
       "    </tr>\n",
       "    <tr>\n",
       "      <th>mean</th>\n",
       "      <td>127969.217148</td>\n",
       "      <td>4.571024</td>\n",
       "      <td>9.860918</td>\n",
       "      <td>5.999779e+06</td>\n",
       "      <td>2.107483e+06</td>\n",
       "      <td>37.766069</td>\n",
       "      <td>-122.445447</td>\n",
       "      <td>7.686006</td>\n",
       "      <td>5.604941</td>\n",
       "      <td>6.084442</td>\n",
       "      <td>17330.435931</td>\n",
       "      <td>20.281497</td>\n",
       "    </tr>\n",
       "    <tr>\n",
       "      <th>std</th>\n",
       "      <td>79956.261103</td>\n",
       "      <td>13.027059</td>\n",
       "      <td>29.218718</td>\n",
       "      <td>1.014071e+05</td>\n",
       "      <td>1.016335e+05</td>\n",
       "      <td>0.248040</td>\n",
       "      <td>0.412422</td>\n",
       "      <td>4.734886</td>\n",
       "      <td>2.413500</td>\n",
       "      <td>3.093450</td>\n",
       "      <td>14197.616530</td>\n",
       "      <td>12.846873</td>\n",
       "    </tr>\n",
       "    <tr>\n",
       "      <th>min</th>\n",
       "      <td>1.000000</td>\n",
       "      <td>-50.000000</td>\n",
       "      <td>0.000000</td>\n",
       "      <td>2.109337e+06</td>\n",
       "      <td>2.013289e+06</td>\n",
       "      <td>37.509004</td>\n",
       "      <td>-138.283861</td>\n",
       "      <td>1.000000</td>\n",
       "      <td>1.000000</td>\n",
       "      <td>1.000000</td>\n",
       "      <td>54.000000</td>\n",
       "      <td>1.000000</td>\n",
       "    </tr>\n",
       "    <tr>\n",
       "      <th>25%</th>\n",
       "      <td>53295.000000</td>\n",
       "      <td>1.000000</td>\n",
       "      <td>3.000000</td>\n",
       "      <td>5.996733e+06</td>\n",
       "      <td>2.097778e+06</td>\n",
       "      <td>37.740211</td>\n",
       "      <td>-122.454326</td>\n",
       "      <td>2.000000</td>\n",
       "      <td>4.000000</td>\n",
       "      <td>4.000000</td>\n",
       "      <td>59.000000</td>\n",
       "      <td>9.000000</td>\n",
       "    </tr>\n",
       "    <tr>\n",
       "      <th>50%</th>\n",
       "      <td>122144.000000</td>\n",
       "      <td>2.000000</td>\n",
       "      <td>7.000000</td>\n",
       "      <td>6.003392e+06</td>\n",
       "      <td>2.105042e+06</td>\n",
       "      <td>37.760169</td>\n",
       "      <td>-122.431428</td>\n",
       "      <td>9.000000</td>\n",
       "      <td>6.000000</td>\n",
       "      <td>6.000000</td>\n",
       "      <td>28856.000000</td>\n",
       "      <td>20.000000</td>\n",
       "    </tr>\n",
       "    <tr>\n",
       "      <th>75%</th>\n",
       "      <td>204270.000000</td>\n",
       "      <td>4.000000</td>\n",
       "      <td>12.000000</td>\n",
       "      <td>6.008740e+06</td>\n",
       "      <td>2.112138e+06</td>\n",
       "      <td>37.779595</td>\n",
       "      <td>-122.412924</td>\n",
       "      <td>11.000000</td>\n",
       "      <td>8.000000</td>\n",
       "      <td>8.000000</td>\n",
       "      <td>28861.000000</td>\n",
       "      <td>31.000000</td>\n",
       "    </tr>\n",
       "    <tr>\n",
       "      <th>max</th>\n",
       "      <td>266895.000000</td>\n",
       "      <td>1700.000000</td>\n",
       "      <td>9999.000000</td>\n",
       "      <td>6.022031e+06</td>\n",
       "      <td>6.005733e+06</td>\n",
       "      <td>47.270219</td>\n",
       "      <td>-122.366622</td>\n",
       "      <td>15.000000</td>\n",
       "      <td>10.000000</td>\n",
       "      <td>11.000000</td>\n",
       "      <td>29492.000000</td>\n",
       "      <td>41.000000</td>\n",
       "    </tr>\n",
       "  </tbody>\n",
       "</table>\n",
       "</div>"
      ],
      "text/plain": [
       "              TreeID      SiteOrder            DBH        XCoord  \\\n",
       "count  195765.000000  194013.000000  152708.000000  1.928250e+05   \n",
       "mean   127969.217148       4.571024       9.860918  5.999779e+06   \n",
       "std     79956.261103      13.027059      29.218718  1.014071e+05   \n",
       "min         1.000000     -50.000000       0.000000  2.109337e+06   \n",
       "25%     53295.000000       1.000000       3.000000  5.996733e+06   \n",
       "50%    122144.000000       2.000000       7.000000  6.003392e+06   \n",
       "75%    204270.000000       4.000000      12.000000  6.008740e+06   \n",
       "max    266895.000000    1700.000000    9999.000000  6.022031e+06   \n",
       "\n",
       "             YCoord       Latitude      Longitude  Fire Prevention Districts  \\\n",
       "count  1.928250e+05  192825.000000  192825.000000              192574.000000   \n",
       "mean   2.107483e+06      37.766069    -122.445447                   7.686006   \n",
       "std    1.016335e+05       0.248040       0.412422                   4.734886   \n",
       "min    2.013289e+06      37.509004    -138.283861                   1.000000   \n",
       "25%    2.097778e+06      37.740211    -122.454326                   2.000000   \n",
       "50%    2.105042e+06      37.760169    -122.431428                   9.000000   \n",
       "75%    2.112138e+06      37.779595    -122.412924                  11.000000   \n",
       "max    6.005733e+06      47.270219    -122.366622                  15.000000   \n",
       "\n",
       "       Police Districts  Supervisor Districts      Zip Codes  \\\n",
       "count     192627.000000         192688.000000  192682.000000   \n",
       "mean           5.604941              6.084442   17330.435931   \n",
       "std            2.413500              3.093450   14197.616530   \n",
       "min            1.000000              1.000000      54.000000   \n",
       "25%            4.000000              4.000000      59.000000   \n",
       "50%            6.000000              6.000000   28856.000000   \n",
       "75%            8.000000              8.000000   28861.000000   \n",
       "max           10.000000             11.000000   29492.000000   \n",
       "\n",
       "       Neighborhoods (old)  \n",
       "count        192684.000000  \n",
       "mean             20.281497  \n",
       "std              12.846873  \n",
       "min               1.000000  \n",
       "25%               9.000000  \n",
       "50%              20.000000  \n",
       "75%              31.000000  \n",
       "max              41.000000  "
      ]
     },
     "execution_count": 15,
     "metadata": {},
     "output_type": "execute_result"
    }
   ],
   "source": [
    "treeList.describe()"
   ]
  },
  {
   "cell_type": "code",
   "execution_count": null,
   "id": "a269629c",
   "metadata": {},
   "outputs": [],
   "source": []
  },
  {
   "cell_type": "markdown",
   "id": "4ba2e288",
   "metadata": {},
   "source": [
    "## Step 1: Explore"
   ]
  },
  {
   "cell_type": "markdown",
   "id": "5d542f03",
   "metadata": {},
   "source": [
    "#### How many unique zipcodes are represented?\n",
    "Returning the length of the list of unique zip codes"
   ]
  },
  {
   "cell_type": "code",
   "execution_count": 19,
   "id": "ef5bbe75",
   "metadata": {},
   "outputs": [
    {
     "data": {
      "text/plain": [
       "30"
      ]
     },
     "execution_count": 19,
     "metadata": {},
     "output_type": "execute_result"
    }
   ],
   "source": [
    "uniqueZipCode = len(pd.unique(treeList['Zip Codes']))\n",
    "uniqueZipCode"
   ]
  },
  {
   "cell_type": "markdown",
   "id": "e511a702",
   "metadata": {},
   "source": [
    "#### How many total trees are there?\n",
    "Returning the count of TreeID column"
   ]
  },
  {
   "cell_type": "code",
   "execution_count": 22,
   "id": "5d7294c8",
   "metadata": {},
   "outputs": [
    {
     "data": {
      "text/plain": [
       "195765"
      ]
     },
     "execution_count": 22,
     "metadata": {},
     "output_type": "execute_result"
    }
   ],
   "source": [
    "treeList['TreeID'].count()"
   ]
  },
  {
   "cell_type": "markdown",
   "id": "d0719f7c",
   "metadata": {},
   "source": [
    "#### What are the various formats for dimensions?\n",
    "Size of dataframe is number of fields in the dataframe<br>\n",
    "Shape of the dataframe is number of rows and number of columns"
   ]
  },
  {
   "cell_type": "code",
   "execution_count": 37,
   "id": "d0af318e",
   "metadata": {},
   "outputs": [
    {
     "data": {
      "text/plain": [
       "(195765, 23)"
      ]
     },
     "execution_count": 37,
     "metadata": {},
     "output_type": "execute_result"
    }
   ],
   "source": [
    "treeList.size\n",
    "treeList.shape"
   ]
  },
  {
   "cell_type": "markdown",
   "id": "aa1d0891",
   "metadata": {},
   "source": [
    "#### What are the different Site information options?\n",
    "Returning the list of unique values in the Site Info column"
   ]
  },
  {
   "cell_type": "code",
   "execution_count": 28,
   "id": "ddbfdb43",
   "metadata": {},
   "outputs": [
    {
     "data": {
      "text/plain": [
       "array(['Sidewalk: Curb side : Cutout', 'Side Yard : Yard',\n",
       "       'Back Yard : Yard', 'Sidewalk: Property side : Yard',\n",
       "       'Median : Yard', 'Unaccepted Street : Yard', 'Front Yard : Yard',\n",
       "       'Sidewalk: Curb side : Yard', 'Sidewalk: Property side : Cutout',\n",
       "       'Unaccepted Street : Cutout', 'Median : Cutout',\n",
       "       'Side Yard : Cutout', 'unknown : Yard', 'Back Yard : Cutout',\n",
       "       'Sidewalk: Curb side : Pot', 'Sidewalk: Curb side :', 'Median :',\n",
       "       ':', 'Front Yard : Pot', 'Front Yard : Cutout',\n",
       "       'Unaccepted Street : Pot', ': Yard', ': Cutout', 'Front Yard :',\n",
       "       'Sidewalk: Property side : Pot', 'Sidewalk: Property side :',\n",
       "       'unknown : Cutout', 'Hanging basket : Cutout',\n",
       "       'Sidewalk: Curb side : Hanging Pot', 'Hanging basket : Yard',\n",
       "       'unknown : Pot', 'Median : Hanging Pot'], dtype=object)"
      ]
     },
     "execution_count": 28,
     "metadata": {},
     "output_type": "execute_result"
    }
   ],
   "source": [
    "treeList['qSiteInfo'].unique()"
   ]
  },
  {
   "cell_type": "markdown",
   "id": "26428671",
   "metadata": {},
   "source": [
    "#### Which is more popular for the caretaker- Private or Department of Public Works?\n",
    "Returning the counts of each value sorted from largest to smallest"
   ]
  },
  {
   "cell_type": "code",
   "execution_count": 45,
   "id": "cccabead",
   "metadata": {},
   "outputs": [
    {
     "data": {
      "text/plain": [
       "Private     164075\n",
       "DPW          27950\n",
       "SFUSD         1100\n",
       "Port           726\n",
       "Rec/Park       722\n",
       "Name: qCaretaker, dtype: int64"
      ]
     },
     "execution_count": 45,
     "metadata": {},
     "output_type": "execute_result"
    }
   ],
   "source": [
    "treeList['qCaretaker'].value_counts().nlargest()"
   ]
  },
  {
   "cell_type": "markdown",
   "id": "3401798b",
   "metadata": {},
   "source": [
    "#### What missing data is there in this dataset? \n",
    "**Which columns are impacted?** <br>\n",
    "**How many rows in each column?** <br>\n",
    "Returning the sum of rows in each column with a null value"
   ]
  },
  {
   "cell_type": "code",
   "execution_count": 33,
   "id": "98f2b3b9",
   "metadata": {},
   "outputs": [
    {
     "data": {
      "text/plain": [
       "TreeID                            0\n",
       "qLegalStatus                     57\n",
       "qSpecies                          0\n",
       "qAddress                       1490\n",
       "SiteOrder                      1752\n",
       "qSiteInfo                         0\n",
       "PlantType                         0\n",
       "qCaretaker                        0\n",
       "qCareAssistant               171112\n",
       "PlantDate                    127407\n",
       "DBH                           43057\n",
       "PlotSize                      50329\n",
       "PermitNotes                  142658\n",
       "XCoord                         2940\n",
       "YCoord                         2940\n",
       "Latitude                       2940\n",
       "Longitude                      2940\n",
       "Location                       2940\n",
       "Fire Prevention Districts      3191\n",
       "Police Districts               3138\n",
       "Supervisor Districts           3077\n",
       "Zip Codes                      3083\n",
       "Neighborhoods (old)            3081\n",
       "dtype: int64"
      ]
     },
     "execution_count": 33,
     "metadata": {},
     "output_type": "execute_result"
    }
   ],
   "source": [
    "treeList.isna().sum()"
   ]
  },
  {
   "cell_type": "markdown",
   "id": "1d733e5e",
   "metadata": {},
   "source": [
    "***"
   ]
  },
  {
   "cell_type": "markdown",
   "id": "8e6024bd",
   "metadata": {},
   "source": [
    "## Step 2: Visualize"
   ]
  },
  {
   "cell_type": "markdown",
   "id": "abcb1113",
   "metadata": {},
   "source": [
    "#### Create a histogram of the number of trees in each zipcode"
   ]
  },
  {
   "cell_type": "code",
   "execution_count": 42,
   "id": "8a5835f6",
   "metadata": {},
   "outputs": [
    {
     "data": {
      "image/png": "[encoded data removed]",
      "text/plain": [
       "<Figure size 432x288 with 1 Axes>"
      ]
     },
     "metadata": {
      "needs_background": "light"
     },
     "output_type": "display_data"
    }
   ],
   "source": [
    "plt.hist(treeList['Zip Codes'])\n",
    "plt.show()"
   ]
  },
  {
   "cell_type": "code",
   "execution_count": null,
   "id": "c4e07acb",
   "metadata": {},
   "outputs": [],
   "source": []
  },
  {
   "cell_type": "markdown",
   "id": "f42cfe5c",
   "metadata": {},
   "source": [
    "#### Create a histogram of the number of trees cared for by \"Private\" vs. \"DPW\"."
   ]
  },
  {
   "cell_type": "code",
   "execution_count": 47,
   "id": "d4733a22",
   "metadata": {},
   "outputs": [
    {
     "data": {
      "image/png": "[encoded data removed]",
      "text/plain": [
       "<Figure size 432x288 with 1 Axes>"
      ]
     },
     "metadata": {
      "needs_background": "light"
     },
     "output_type": "display_data"
    }
   ],
   "source": [
    "plt.hist(treeList['qCaretaker'])\n",
    "plt.show()"
   ]
  },
  {
   "cell_type": "code",
   "execution_count": null,
   "id": "19f559ce",
   "metadata": {},
   "outputs": [],
   "source": []
  }
 ],
 "metadata": {
  "kernelspec": {
   "display_name": "Python 3 (ipykernel)",
   "language": "python",
   "name": "python3"
  },
  "language_info": {
   "codemirror_mode": {
    "name": "ipython",
    "version": 3
   },
   "file_extension": ".py",
   "mimetype": "text/x-python",
   "name": "python",
   "nbconvert_exporter": "python",
   "pygments_lexer": "ipython3",
   "version": "3.9.7"
  }
 },
 "nbformat": 4,
 "nbformat_minor": 5
}
